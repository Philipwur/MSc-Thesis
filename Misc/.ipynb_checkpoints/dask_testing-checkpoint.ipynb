{
 "cells": [
  {
   "cell_type": "code",
   "execution_count": 23,
   "metadata": {},
   "outputs": [],
   "source": [
    "import time\n",
    "import math\n",
    "import numpy as np\n",
    "import scipy.sparse as sp\n",
    "import scipy.linalg as la\n",
    "from scipy.spatial import distance_matrix \n",
    "from tqdm import tqdm\n",
    "\n",
    "import dask.array as da\n",
    "import dask_distance as dd"
   ]
  },
  {
   "cell_type": "code",
   "execution_count": 4,
   "metadata": {},
   "outputs": [
    {
     "data": {
      "text/html": [
       "<table>\n",
       "    <tr>\n",
       "        <td>\n",
       "            <table>\n",
       "                <thead>\n",
       "                    <tr>\n",
       "                        <td> </td>\n",
       "                        <th> Array </th>\n",
       "                        <th> Chunk </th>\n",
       "                    </tr>\n",
       "                </thead>\n",
       "                <tbody>\n",
       "                    \n",
       "                    <tr>\n",
       "                        <th> Bytes </th>\n",
       "                        <td> 4.29 GiB </td>\n",
       "                        <td> 488.28 MiB </td>\n",
       "                    </tr>\n",
       "                    \n",
       "                    <tr>\n",
       "                        <th> Shape </th>\n",
       "                        <td> (24000, 24000) </td>\n",
       "                        <td> (8000, 8000) </td>\n",
       "                    </tr>\n",
       "                    <tr>\n",
       "                        <th> Count </th>\n",
       "                        <td> 9 Tasks </td>\n",
       "                        <td> 9 Chunks </td>\n",
       "                    </tr>\n",
       "                    <tr>\n",
       "                    <th> Type </th>\n",
       "                    <td> float64 </td>\n",
       "                    <td> numpy.ndarray </td>\n",
       "                    </tr>\n",
       "                </tbody>\n",
       "            </table>\n",
       "        </td>\n",
       "        <td>\n",
       "        <svg width=\"170\" height=\"170\" style=\"stroke:rgb(0,0,0);stroke-width:1\" >\n",
       "\n",
       "  <!-- Horizontal lines -->\n",
       "  <line x1=\"0\" y1=\"0\" x2=\"120\" y2=\"0\" style=\"stroke-width:2\" />\n",
       "  <line x1=\"0\" y1=\"40\" x2=\"120\" y2=\"40\" />\n",
       "  <line x1=\"0\" y1=\"80\" x2=\"120\" y2=\"80\" />\n",
       "  <line x1=\"0\" y1=\"120\" x2=\"120\" y2=\"120\" style=\"stroke-width:2\" />\n",
       "\n",
       "  <!-- Vertical lines -->\n",
       "  <line x1=\"0\" y1=\"0\" x2=\"0\" y2=\"120\" style=\"stroke-width:2\" />\n",
       "  <line x1=\"40\" y1=\"0\" x2=\"40\" y2=\"120\" />\n",
       "  <line x1=\"80\" y1=\"0\" x2=\"80\" y2=\"120\" />\n",
       "  <line x1=\"120\" y1=\"0\" x2=\"120\" y2=\"120\" style=\"stroke-width:2\" />\n",
       "\n",
       "  <!-- Colored Rectangle -->\n",
       "  <polygon points=\"0.0,0.0 120.0,0.0 120.0,120.0 0.0,120.0\" style=\"fill:#ECB172A0;stroke-width:0\"/>\n",
       "\n",
       "  <!-- Text -->\n",
       "  <text x=\"60.000000\" y=\"140.000000\" font-size=\"1.0rem\" font-weight=\"100\" text-anchor=\"middle\" >24000</text>\n",
       "  <text x=\"140.000000\" y=\"60.000000\" font-size=\"1.0rem\" font-weight=\"100\" text-anchor=\"middle\" transform=\"rotate(-90,140.000000,60.000000)\">24000</text>\n",
       "</svg>\n",
       "        </td>\n",
       "    </tr>\n",
       "</table>"
      ],
      "text/plain": [
       "dask.array<zeros_like, shape=(24000, 24000), dtype=float64, chunksize=(8000, 8000), chunktype=numpy.ndarray>"
      ]
     },
     "execution_count": 4,
     "metadata": {},
     "output_type": "execute_result"
    }
   ],
   "source": [
    "a, b, c = 2, 2, 2\n",
    "lat_res = 20\n",
    "\n",
    "tot_atoms = (lat_res ** 3)\n",
    "\n",
    "relation = da.zeros((3*tot_atoms, 3*tot_atoms), chunks = (tot_atoms, tot_atoms))\n",
    "relation"
   ]
  },
  {
   "cell_type": "code",
   "execution_count": 21,
   "metadata": {},
   "outputs": [
    {
     "data": {
      "text/html": [
       "<table>\n",
       "    <tr>\n",
       "        <td>\n",
       "            <table>\n",
       "                <thead>\n",
       "                    <tr>\n",
       "                        <td> </td>\n",
       "                        <th> Array </th>\n",
       "                        <th> Chunk </th>\n",
       "                    </tr>\n",
       "                </thead>\n",
       "                <tbody>\n",
       "                    \n",
       "                    <tr>\n",
       "                        <th> Bytes </th>\n",
       "                        <td> 93.75 kiB </td>\n",
       "                        <td> 93.75 kiB </td>\n",
       "                    </tr>\n",
       "                    \n",
       "                    <tr>\n",
       "                        <th> Shape </th>\n",
       "                        <td> (8000, 3) </td>\n",
       "                        <td> (8000, 3) </td>\n",
       "                    </tr>\n",
       "                    <tr>\n",
       "                        <th> Count </th>\n",
       "                        <td> 1 Tasks </td>\n",
       "                        <td> 1 Chunks </td>\n",
       "                    </tr>\n",
       "                    <tr>\n",
       "                    <th> Type </th>\n",
       "                    <td> int32 </td>\n",
       "                    <td> numpy.ndarray </td>\n",
       "                    </tr>\n",
       "                </tbody>\n",
       "            </table>\n",
       "        </td>\n",
       "        <td>\n",
       "        <svg width=\"75\" height=\"170\" style=\"stroke:rgb(0,0,0);stroke-width:1\" >\n",
       "\n",
       "  <!-- Horizontal lines -->\n",
       "  <line x1=\"0\" y1=\"0\" x2=\"25\" y2=\"0\" style=\"stroke-width:2\" />\n",
       "  <line x1=\"0\" y1=\"120\" x2=\"25\" y2=\"120\" style=\"stroke-width:2\" />\n",
       "\n",
       "  <!-- Vertical lines -->\n",
       "  <line x1=\"0\" y1=\"0\" x2=\"0\" y2=\"120\" style=\"stroke-width:2\" />\n",
       "  <line x1=\"25\" y1=\"0\" x2=\"25\" y2=\"120\" style=\"stroke-width:2\" />\n",
       "\n",
       "  <!-- Colored Rectangle -->\n",
       "  <polygon points=\"0.0,0.0 25.412616514582485,0.0 25.412616514582485,120.0 0.0,120.0\" style=\"fill:#ECB172A0;stroke-width:0\"/>\n",
       "\n",
       "  <!-- Text -->\n",
       "  <text x=\"12.706308\" y=\"140.000000\" font-size=\"1.0rem\" font-weight=\"100\" text-anchor=\"middle\" >3</text>\n",
       "  <text x=\"45.412617\" y=\"60.000000\" font-size=\"1.0rem\" font-weight=\"100\" text-anchor=\"middle\" transform=\"rotate(-90,45.412617,60.000000)\">8000</text>\n",
       "</svg>\n",
       "        </td>\n",
       "    </tr>\n",
       "</table>"
      ],
      "text/plain": [
       "dask.array<array, shape=(8000, 3), dtype=int32, chunksize=(8000, 3), chunktype=numpy.ndarray>"
      ]
     },
     "execution_count": 21,
     "metadata": {},
     "output_type": "execute_result"
    }
   ],
   "source": [
    "points = da.from_array([[i * a, j * b, k * c] \n",
    "                        for k in range(lat_res) \n",
    "                        for j in range(lat_res) \n",
    "                        for i in range(lat_res)])\n",
    "\n",
    "points"
   ]
  },
  {
   "cell_type": "code",
   "execution_count": 27,
   "metadata": {},
   "outputs": [
    {
     "data": {
      "text/plain": [
       "array([[ 1.        ,  2.        ,  4.        , ..., 63.59245238,\n",
       "        64.68384652, 65.81793069],\n",
       "       [ 2.        ,  1.        ,  2.        , ..., 62.54598308,\n",
       "        63.59245238, 64.68384652],\n",
       "       [ 4.        ,  2.        ,  1.        , ..., 61.54673021,\n",
       "        62.54598308, 63.59245238],\n",
       "       ...,\n",
       "       [63.59245238, 62.54598308, 61.54673021, ...,  1.        ,\n",
       "         2.        ,  4.        ],\n",
       "       [64.68384652, 63.59245238, 62.54598308, ...,  2.        ,\n",
       "         1.        ,  2.        ],\n",
       "       [65.81793069, 64.68384652, 63.59245238, ...,  4.        ,\n",
       "         2.        ,  1.        ]])"
      ]
     },
     "execution_count": 27,
     "metadata": {},
     "output_type": "execute_result"
    }
   ],
   "source": [
    "euc = dd.cdist(points, points) + np.identity(tot_atoms)\n",
    "euc\n",
    "euc.compute()"
   ]
  },
  {
   "cell_type": "code",
   "execution_count": null,
   "metadata": {},
   "outputs": [],
   "source": [
    "\n",
    "\n",
    "start = time.perf_counter()\n",
    "# function to show only kronecker delta points, alternative method would be to \n",
    "# use and displace eye functions, although this may require iteration\n",
    "def term1(tot_atoms, points):\n",
    "    \n",
    "    t1 = np.repeat(np.arange(0, tot_atoms, 1), 3).astype(np.int16)\n",
    "    t2 = np.tile([0, 1, 2], tot_atoms).astype(np.int8)\n",
    "    \n",
    "    p4 = np.tile(t2, (3 * tot_atoms, 1))\n",
    "    p3 = np.tile(t1, (3 * tot_atoms, 1))\n",
    "    p1 = p3.T\n",
    "    p2 = p4.T\n",
    "    \n",
    "    term1 = (3\n",
    "             * (points[p1, p2] - points[p3, p2])\n",
    "             * (points[p1, p4] - points[p3, p4]))\n",
    "\n",
    "    return term1\n",
    "\n",
    "def term2_3(x, euc):\n",
    "    \n",
    "    # creation of the kronekar delta matrix\n",
    "    x = np.arange(3 * x)\n",
    "    kron = (abs(np.meshgrid(x, x)[0] - np.meshgrid(x, x)[1]) % 3 == 0)\n",
    "    kron = kron.astype(int) - np.identity(len(kron))\n",
    "\n",
    "    # repearing euclidian matrix 3 times in both dimensions\n",
    "    # any way of doing this without storing it in memory, ie just pointing?\n",
    "    # look into np.where for this\n",
    "    new_euc = np.repeat(np.repeat(euc, [3], axis = 0), 3, axis = 1)\n",
    "        \n",
    "    # matrix-wise calculation of term 2 and term 3\n",
    "    term2 = np.power(np.multiply(new_euc, kron), 2)\n",
    "    term3 = np.power(new_euc, 5)\n",
    "    \n",
    "    return term2, term3\n",
    "\n",
    "term1 = term1(tot_atoms, points)\n",
    "term2, term3 = term2_3(tot_atoms, euc)\n",
    "\n",
    "relation = np.divide((term1 - term2), term3)\n",
    "\n",
    "end = time.perf_counter()\n",
    "print(end - start)\n",
    "\n",
    "relation_eig = la.eigvalsh(relation)\n",
    "extreme_eig = [min(relation_eig), max(relation_eig)]\n",
    "extreme_a = [1/extreme_eig[0], 1/extreme_eig[1]]\n",
    "fig_o_merit = extreme_a[0]"
   ]
  }
 ],
 "metadata": {
  "interpreter": {
   "hash": "871a673c8dfd22c3372f6493bf8fd0895485c1982b02fbe210d3fb56f4251058"
  },
  "kernelspec": {
   "display_name": "Python 3.8.5 ('base')",
   "language": "python",
   "name": "python3"
  },
  "language_info": {
   "codemirror_mode": {
    "name": "ipython",
    "version": 3
   },
   "file_extension": ".py",
   "mimetype": "text/x-python",
   "name": "python",
   "nbconvert_exporter": "python",
   "pygments_lexer": "ipython3",
   "version": "3.8.5"
  },
  "orig_nbformat": 4
 },
 "nbformat": 4,
 "nbformat_minor": 2
}
